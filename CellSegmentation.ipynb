{
 "cells": [
  {
   "cell_type": "code",
   "execution_count": null,
   "metadata": {},
   "outputs": [],
   "source": [
    "import os\n",
    "\n",
    "import tensorflow as tf\n",
    "import pandas as pd\n",
    "import numpy as np\n",
    "import matplotlib.pyplot as plt\n",
    "%matplotlib inline\n",
    "from skimage import feature\n",
    "from skimage import filters\n",
    "from skimage.io import imread\n",
    "import scipy"
   ]
  },
  {
   "cell_type": "code",
   "execution_count": null,
   "metadata": {},
   "outputs": [],
   "source": [
    "path_root = os.path.abspath(os.path.expanduser('dataset_voc/SegmentationClass'))\n",
    "queue = [path_root]\n",
    "npy_items = list()\n",
    "while queue:\n",
    "    ptr = queue.pop()\n",
    "    for entry in os.scandir(ptr):\n",
    "        if entry.name.startswith('.') or not entry.is_file():\n",
    "            queue.append(entry.path)\n",
    "        elif entry.name.endswith('.npy'):\n",
    "            npy_items.append(entry.path)\n",
    "npy_items.sort()\n",
    "print(npy_items)"
   ]
  },
  {
   "cell_type": "code",
   "execution_count": null,
   "metadata": {},
   "outputs": [],
   "source": [
    "path_root = os.path.abspath(os.path.expanduser('dataset_voc/JPEGImages'))\n",
    "queue = [path_root]\n",
    "jpg_items = list()\n",
    "while queue:\n",
    "    ptr = queue.pop()\n",
    "    for entry in os.scandir(ptr):\n",
    "        if entry.name.startswith('.') or not entry.is_file():\n",
    "            queue.append(entry.path)\n",
    "        elif entry.name.endswith('.jpg'):\n",
    "            jpg_items.append(entry.path)\n",
    "jpg_items.sort()\n",
    "print(jpg_items)"
   ]
  },
  {
   "cell_type": "code",
   "execution_count": null,
   "metadata": {},
   "outputs": [],
   "source": [
    "def preprocess(path):\n",
    "    data = np.load(path)\n",
    "    data[data > 0] = data[data > 0] + 1 # Class label + 1\n",
    "    edge = filters.sobel(data) # Find edge\n",
    "    data[edge > 0] = 1 # Set class 1 to edge\n",
    "    return data"
   ]
  },
  {
   "cell_type": "code",
   "execution_count": null,
   "metadata": {},
   "outputs": [],
   "source": [
    "x = list()\n",
    "y = list()\n",
    "for train, label in zip(jpg_items, npy_items):\n",
    "    t = imread(train)\n",
    "    x.append(t)\n",
    "    l = np.expand_dims(preprocess(label), axis=-1)\n",
    "    y.append(l)"
   ]
  },
  {
   "cell_type": "code",
   "execution_count": null,
   "metadata": {},
   "outputs": [],
   "source": [
    "train_dataset = tf.data.Dataset.from_tensor_slices((x, y))"
   ]
  },
  {
   "cell_type": "code",
   "execution_count": null,
   "metadata": {},
   "outputs": [],
   "source": [
    "BATCH_SIZE = 32\n",
    "SHUFFLE_BUFFER_SIZE = 100\n",
    "train_dataset = train_dataset.shuffle(SHUFFLE_BUFFER_SIZE).batch(BATCH_SIZE)"
   ]
  },
  {
   "cell_type": "code",
   "execution_count": null,
   "metadata": {},
   "outputs": [],
   "source": [
    "model = tf.keras.Sequential([\n",
    "    tf.keras.layers.experimental.preprocessing.Rescaling(1./255, input_shape=x[0].shape),\n",
    "    tf.keras.layers.Conv2D(16, 3, padding='same', activation='relu'),\n",
    "    tf.keras.layers.Conv2D(32, 3, padding='same', activation='relu'),\n",
    "    tf.keras.layers.Conv2D(16, 3, padding='same', activation='relu'),\n",
    "    tf.keras.layers.Conv2D(3, 3, padding='same', activation='relu'),\n",
    "#     tf.keras.layers.Conv2DTranspose(3, 3, strides=2, padding='same'),\n",
    "#     tf.keras.layers.Conv2DTranspose(3, 3, strides=2, padding='same'),\n",
    "#     tf.keras.layers.Conv2DTranspose(3, 3, strides=2, padding='same'),\n",
    "])"
   ]
  },
  {
   "cell_type": "code",
   "execution_count": null,
   "metadata": {},
   "outputs": [],
   "source": [
    "tf.keras.utils.plot_model(model, show_shapes=True)"
   ]
  },
  {
   "cell_type": "code",
   "execution_count": null,
   "metadata": {},
   "outputs": [],
   "source": [
    "model.compile(optimizer='adam',\n",
    "              loss=tf.keras.losses.SparseCategoricalCrossentropy(from_logits=True),\n",
    "              metrics=['accuracy'])"
   ]
  },
  {
   "cell_type": "code",
   "execution_count": null,
   "metadata": {},
   "outputs": [],
   "source": [
    "history = model.fit(train_dataset, epochs=100)"
   ]
  },
  {
   "cell_type": "code",
   "execution_count": null,
   "metadata": {},
   "outputs": [],
   "source": [
    "r = model.predict(np.expand_dims(x[0]/255, axis=0))"
   ]
  },
  {
   "cell_type": "code",
   "execution_count": null,
   "metadata": {},
   "outputs": [],
   "source": [
    "pred_mask = tf.argmax(r, axis=-1)"
   ]
  },
  {
   "cell_type": "code",
   "execution_count": null,
   "metadata": {},
   "outputs": [],
   "source": [
    "np.unique(pred_mask[0].numpy())"
   ]
  },
  {
   "cell_type": "code",
   "execution_count": null,
   "metadata": {},
   "outputs": [],
   "source": [
    "plt.imshow(pred_mask[0])"
   ]
  },
  {
   "cell_type": "code",
   "execution_count": null,
   "metadata": {},
   "outputs": [],
   "source": []
  }
 ],
 "metadata": {
  "kernelspec": {
   "display_name": "CellClassification",
   "language": "python",
   "name": "cell"
  },
  "language_info": {
   "codemirror_mode": {
    "name": "ipython",
    "version": 3
   },
   "file_extension": ".py",
   "mimetype": "text/x-python",
   "name": "python",
   "nbconvert_exporter": "python",
   "pygments_lexer": "ipython3",
   "version": "3.8.6"
  }
 },
 "nbformat": 4,
 "nbformat_minor": 4
}
