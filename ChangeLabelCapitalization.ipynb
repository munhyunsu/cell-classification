{
 "cells": [
  {
   "cell_type": "code",
   "execution_count": null,
   "id": "48d91ba7",
   "metadata": {},
   "outputs": [],
   "source": [
    "import os\n",
    "import json"
   ]
  },
  {
   "cell_type": "code",
   "execution_count": null,
   "id": "d01162f9",
   "metadata": {},
   "outputs": [],
   "source": [
    "basepath = './Dataset/20210410-LabelMeDataset/jsons'\n",
    "basepath = os.path.abspath(os.path.expanduser(basepath))\n",
    "basepath"
   ]
  },
  {
   "cell_type": "code",
   "execution_count": null,
   "id": "09f665e7",
   "metadata": {},
   "outputs": [],
   "source": [
    "# key: lowers\n",
    "labels = {\n",
    "    'hek293': 'HEK293',\n",
    "    'hela': 'HeLa',\n",
    "    'pc12': 'PC12',\n",
    "}"
   ]
  },
  {
   "cell_type": "code",
   "execution_count": null,
   "id": "d5fdd4ed",
   "metadata": {},
   "outputs": [],
   "source": [
    "files = []\n",
    "with os.scandir(basepath) as it:\n",
    "    for entry in it:\n",
    "        if entry.is_file() and entry.path.endswith('.json'):\n",
    "            files.append(entry.path)\n",
    "print(f'The number of files: {len(files)}')"
   ]
  },
  {
   "cell_type": "code",
   "execution_count": null,
   "id": "ae2bfe19",
   "metadata": {},
   "outputs": [],
   "source": [
    "for path in files:\n",
    "    with open(path, 'r') as f:\n",
    "        data = json.load(f)\n",
    "    for shape in data['shapes']:\n",
    "        shape['label'] = labels[shape['label'].lower()]\n",
    "    with open(path, 'w') as f:\n",
    "        json.dump(data, f,\n",
    "                  indent=4, ensure_ascii=False)"
   ]
  },
  {
   "cell_type": "code",
   "execution_count": null,
   "id": "1dd359a4",
   "metadata": {},
   "outputs": [],
   "source": []
  }
 ],
 "metadata": {
  "kernelspec": {
   "display_name": "CellClassification",
   "language": "python",
   "name": "cell"
  },
  "language_info": {
   "codemirror_mode": {
    "name": "ipython",
    "version": 3
   },
   "file_extension": ".py",
   "mimetype": "text/x-python",
   "name": "python",
   "nbconvert_exporter": "python",
   "pygments_lexer": "ipython3",
   "version": "3.8.6"
  }
 },
 "nbformat": 4,
 "nbformat_minor": 5
}
