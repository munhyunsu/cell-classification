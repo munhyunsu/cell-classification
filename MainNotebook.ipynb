{
 "cells": [
  {
   "cell_type": "markdown",
   "metadata": {},
   "source": [
    "# 충남대학교 세포 분류 및 성장 측정기\n",
    "## 연구: 충남대학교 유기재료공학과 [생기능성 고분자 연구실](https://sites.google.com/view/cnu-polymer-bfpl/home) (양성윤 교수, sungyun@cnu.ac.kr)\n",
    "### 연구 담당: 고은서 석사 (qhfma1029@naver.com)\n",
    "## 코드 기술 지원: 충남대학교 컴퓨터공학과 [데이터 네트워크 연구실](https://dnlab.cs-cnu.org/) (이영석 교수, lee@cnu.ac.kr)\n",
    "### 개발 담당: 문현수 박사과정 (munhyunsu@cnu.ac.kr)"
   ]
  },
  {
   "cell_type": "markdown",
   "metadata": {},
   "source": [
    "---\n",
    "### 1. 필수 사전 작업: LabelMe 활용 Object Labeling\n",
    "#### [LabelMe Github](https://github.com/wkentaro/labelme)"
   ]
  },
  {
   "cell_type": "markdown",
   "metadata": {},
   "source": [
    "---\n",
    "### 2. 필요 라이브러리 설치\n",
    "- **Google Colab 에서는 수행하지 않아도 됨**\n",
    "- install Python3 required libraries\n",
    "```bash\n",
    "pip3 install --upgrade pip wheel\n",
    "pip3 install --upgrade -r requirements.txt\n",
    "```"
   ]
  },
  {
   "cell_type": "markdown",
   "metadata": {},
   "source": [
    "---\n",
    "### 3. 라이브러리 설치 확인 및 필요 함수 선언\n",
    "- pix2pix.upsample 출처 [Github](https://github.com/tensorflow/examples/blob/master/tensorflow_examples/models/pix2pix/pix2pix.py)"
   ]
  },
  {
   "cell_type": "code",
   "execution_count": null,
   "metadata": {},
   "outputs": [],
   "source": [
    "import sys \n",
    "import os\n",
    "import shutil\n",
    "\n",
    "import tensorflow as tf\n",
    "import tensorflow_hub as hub\n",
    "\n",
    "import pandas as pd\n",
    "import numpy as np\n",
    "import matplotlib.pyplot as plt\n",
    "%matplotlib inline\n",
    "import scipy\n",
    "from skimage import feature\n",
    "from skimage import filters\n",
    "from skimage.io import imread\n",
    "from skimage.transform import resize\n",
    "from sklearn.model_selection import train_test_split"
   ]
  },
  {
   "cell_type": "code",
   "execution_count": null,
   "metadata": {},
   "outputs": [],
   "source": [
    "print(f'Python3 version: {sys.version_info.major}.{sys.version_info.minor}.{sys.version_info.micro}')\n",
    "print(f'Tensorflow version: {tf.__version__}')\n",
    "print(f'Pandas version: {pd.__version__}')\n",
    "print(f'Numpy version: {np.__version__}')"
   ]
  },
  {
   "cell_type": "code",
   "execution_count": null,
   "metadata": {},
   "outputs": [],
   "source": [
    "### CAUTION: This function was not coded by Hyunsu Mun, It is from tensorflow example for pix2pix model\n",
    "def upsample(filters, size, norm_type='batchnorm', apply_dropout=False):\n",
    "    \"\"\"Upsamples an input.\n",
    "\n",
    "    Conv2DTranspose => Batchnorm => Dropout => Relu\n",
    "\n",
    "    Args:\n",
    "    filters: number of filters\n",
    "    size: filter size\n",
    "    norm_type: Normalization type; either 'batchnorm' or 'instancenorm'.\n",
    "    apply_dropout: If True, adds the dropout layer\n",
    "\n",
    "    Returns:\n",
    "    Upsample Sequential Model\n",
    "    \"\"\"\n",
    "\n",
    "    initializer = tf.random_normal_initializer(0., 0.02)\n",
    "\n",
    "    result = tf.keras.Sequential()\n",
    "    result.add(tf.keras.layers.Conv2DTranspose(filters, size, strides=2,\n",
    "                                               padding='same',\n",
    "                                               kernel_initializer=initializer,\n",
    "                                               use_bias=False))\n",
    "\n",
    "    if norm_type.lower() == 'batchnorm':\n",
    "        result.add(tf.keras.layers.BatchNormalization())\n",
    "    elif norm_type.lower() == 'instancenorm':\n",
    "        result.add(InstanceNormalization())\n",
    "\n",
    "    if apply_dropout:\n",
    "        result.add(tf.keras.layers.Dropout(0.5))\n",
    "\n",
    "    result.add(tf.keras.layers.ReLU())\n",
    "\n",
    "    return result"
   ]
  },
  {
   "cell_type": "markdown",
   "metadata": {},
   "source": [
    "---\n",
    "### 4. Google Colab 연결 또는 데이터셋 경로 설정\n",
    "- `data_path` 에 LabelMe 결과에 대한 데이터셋 압축 파일 경로가 경로가 입력되어야 함\n",
    "- `ls /tmp/dataset` 이 수행되었을 때 SegmentationClass, JPEGImages 디렉터리가 안 보이면 `path_root` 를 알맞게 설정해야 함!"
   ]
  },
  {
   "cell_type": "code",
   "execution_count": null,
   "metadata": {},
   "outputs": [],
   "source": [
    "try:\n",
    "    from google.colab import drive\n",
    "    print(f'Google Colab 환경입니다.')\n",
    "    drive.mount('/content/gdrive')\n",
    "    data_path = '/content/gdrive/My Drive/Colab Notebooks/CellDataset.tar.gz'\n",
    "except ModuleNotFoundError:\n",
    "    print(f'Google colab 환경이 아닙니다.')\n",
    "    data_path = './Dataset/CellDataset.tar.gz'\n",
    "data_path = os.path.abspath(os.path.expanduser(data_path))\n",
    "print(f'{data_path=}')"
   ]
  },
  {
   "cell_type": "code",
   "execution_count": null,
   "metadata": {},
   "outputs": [],
   "source": [
    "!rm -r /tmp/dataset &> /dev/null\n",
    "!mkdir /tmp/dataset\n",
    "!tar --directory /tmp/dataset -xvf $data_path &> /dev/null\n",
    "!ls /tmp/dataset"
   ]
  },
  {
   "cell_type": "code",
   "execution_count": null,
   "metadata": {},
   "outputs": [],
   "source": [
    "path_root = '/tmp/dataset/'\n",
    "path_root = os.path.abspath(os.path.expanduser(path_root))\n",
    "print(f'{path_root=}')"
   ]
  },
  {
   "cell_type": "markdown",
   "metadata": {},
   "source": [
    "---\n",
    "### 5. 이미지 분류 모델 학습"
   ]
  },
  {
   "cell_type": "code",
   "execution_count": null,
   "metadata": {},
   "outputs": [],
   "source": [
    "# 분류를 위한 파일 이동\n",
    "jpg_root = os.path.join(path_root, 'JPEGImages')\n",
    "dataset_root = os.path.join(path_root, 'Classification')\n",
    "\n",
    "count = 0\n",
    "for entry in os.scandir(jpg_root):\n",
    "    if entry.name.startswith('.') or not entry.is_file():\n",
    "        continue\n",
    "    basename = os.path.basename(entry.path)\n",
    "    classname = basename.split('_')[0]\n",
    "    output_dir = os.path.join(dataset_root, classname)\n",
    "    os.makedirs(output_dir, exist_ok=True)\n",
    "    output_path = os.path.join(output_dir, basename)\n",
    "    shutil.move(entry.path, output_path)\n",
    "    count = count + 1\n",
    "print(f'{count} files moved')"
   ]
  },
  {
   "cell_type": "code",
   "execution_count": null,
   "metadata": {},
   "outputs": [],
   "source": [
    "# prepare dataset\n",
    "dataset_root = os.path.abspath(os.path.expanduser(dataset_root))\n",
    "print(f'Dataset root: {dataset_root}')\n",
    "\n",
    "IMG_SHAPE = (224, 224)\n",
    "image_generator = tf.keras.preprocessing.image.ImageDataGenerator(rescale=1/255,\n",
    "                                                                  validation_split=0.2)\n",
    "train_data = image_generator.flow_from_directory(dataset_root, target_size=IMG_SHAPE,\n",
    "                                                 follow_links=True,\n",
    "                                                 subset='training')\n",
    "validation_data = image_generator.flow_from_directory(dataset_root, target_size=IMG_SHAPE,\n",
    "                                                      follow_links=True,\n",
    "                                                      shuffle=False,\n",
    "                                                      subset='validation')\n",
    "\n",
    "for image_batch, label_batch in validation_data:\n",
    "    print(f'Image batch shape: {image_batch.shape}')\n",
    "    print(f'Label batch shape: {label_batch.shape}')\n",
    "    break"
   ]
  },
  {
   "cell_type": "code",
   "execution_count": null,
   "metadata": {},
   "outputs": [],
   "source": [
    "# Prepare transfer learning\n",
    "## Download headless (without the top classification layer) model\n",
    "# feature_extractor_url = 'https://tfhub.dev/google/imagenet/mobilenet_v3_large_100_224/feature_vector/5'\n",
    "feature_extractor_url = 'https://tfhub.dev/google/tf2-preview/mobilenet_v2/feature_vector/2'\n",
    "feature_extractor_layer = hub.KerasLayer(feature_extractor_url,\n",
    "                                         input_shape=IMG_SHAPE+(3, ))\n",
    "feature_batch = feature_extractor_layer(image_batch)\n",
    "\n",
    "## Frozen feature extraction layer\n",
    "feature_extractor_layer.trainable = False # for transfer learning classifier\n",
    "\n",
    "## Make a model for classification\n",
    "model = tf.keras.Sequential([\n",
    "    feature_extractor_layer,\n",
    "    tf.keras.layers.Dense(train_data.num_classes, activation='softmax')\n",
    "])\n",
    "model.summary()"
   ]
  },
  {
   "cell_type": "code",
   "execution_count": null,
   "metadata": {},
   "outputs": [],
   "source": [
    "# Train build\n",
    "## Compile model for train\n",
    "base_learning_rate = 0.001 # default\n",
    "model.compile(\n",
    "    optimizer=tf.keras.optimizers.Adam(learning_rate=base_learning_rate),\n",
    "    loss=tf.keras.losses.CategoricalCrossentropy(),\n",
    "    metrics=['accuracy'])\n",
    "\n",
    "## Log class\n",
    "### https://www.tensorflow.org/api_docs/python/tf/keras/callbacks/Callback\n",
    "class CollectBatchStats(tf.keras.callbacks.Callback):\n",
    "    def __init__(self):\n",
    "        self.batch_losses = []\n",
    "        self.batch_val_losses = []\n",
    "        self.batch_acc = []\n",
    "        self.batch_val_acc = []\n",
    "    \n",
    "    def on_epoch_end(self, epoch, logs=None):\n",
    "        self.batch_losses.append(logs['loss'])\n",
    "        self.batch_acc.append(logs['accuracy'])\n",
    "        self.batch_val_losses.append(logs['val_loss'])\n",
    "        self.batch_val_acc.append(logs['val_accuracy'])\n",
    "        self.model.reset_metrics()"
   ]
  },
  {
   "cell_type": "code",
   "execution_count": null,
   "metadata": {},
   "outputs": [],
   "source": [
    "steps_per_epoch = np.ceil(train_data.samples/train_data.batch_size) # train all dataset per epoch\n",
    "initial_epoch = 10\n",
    "batch_stats_callback = CollectBatchStats()\n",
    "\n",
    "history = model.fit(train_data,\n",
    "                    epochs=initial_epoch,\n",
    "                    steps_per_epoch=steps_per_epoch,\n",
    "                    validation_data=validation_data,\n",
    "                    callbacks=[batch_stats_callback])"
   ]
  },
  {
   "cell_type": "code",
   "execution_count": null,
   "metadata": {},
   "outputs": [],
   "source": [
    "# Draw learning curves chart\n",
    "acc = batch_stats_callback.batch_acc\n",
    "val_acc = batch_stats_callback.batch_val_acc\n",
    "loss = batch_stats_callback.batch_losses\n",
    "val_loss = batch_stats_callback.batch_val_losses\n",
    "\n",
    "fig = plt.figure(figsize=(8, 8))\n",
    "ax1 = fig.add_subplot(2, 1, 1)\n",
    "ax1.plot(acc, label='Training Accuracy')\n",
    "ax1.plot(val_acc, label='Validation Accuracy')\n",
    "ax1.legend(loc='lower right')\n",
    "ax1.set_ylabel('Accuracy')\n",
    "ax1.set_ylim([0, 1])\n",
    "ax1.set_title('Training and Validation Accuracy')\n",
    "\n",
    "ax2 = fig.add_subplot(2, 1, 2)\n",
    "ax2.plot(loss, label='Training Loss')\n",
    "ax2.plot(val_loss, label='Validation Loss')\n",
    "ax2.legend(loc='upper right')\n",
    "ax2.set_ylabel('Cross Entropy')\n",
    "ax2.set_ylim([0, 1])\n",
    "ax2.set_title('Training and Validation Loss')\n",
    "ax2.set_xlabel('epoch')\n",
    "fig.show()"
   ]
  },
  {
   "cell_type": "code",
   "execution_count": null,
   "metadata": {},
   "outputs": [],
   "source": [
    "## Unfrozen feature extraction layer\n",
    "feature_extractor_layer.trainable = True\n",
    "\n",
    "model.compile(\n",
    "    optimizer=tf.keras.optimizers.Adam(learning_rate=base_learning_rate/10),\n",
    "    loss=tf.keras.losses.CategoricalCrossentropy(),\n",
    "    metrics=['accuracy'])\n",
    "model.summary()"
   ]
  },
  {
   "cell_type": "code",
   "execution_count": null,
   "metadata": {},
   "outputs": [],
   "source": [
    "finetune_epoch = 10\n",
    "\n",
    "history_fine = model.fit(train_data,\n",
    "                        epochs=initial_epoch+finetune_epoch,\n",
    "                        initial_epoch=initial_epoch, # == history.epoch[-1]+1\n",
    "                        steps_per_epoch=steps_per_epoch,\n",
    "                        validation_data=validation_data,\n",
    "                        callbacks = [batch_stats_callback])"
   ]
  },
  {
   "cell_type": "code",
   "execution_count": null,
   "metadata": {},
   "outputs": [],
   "source": [
    "# Draw learning curves chart\n",
    "fine_acc = batch_stats_callback.batch_acc\n",
    "fine_val_acc = batch_stats_callback.batch_val_acc\n",
    "fine_loss = batch_stats_callback.batch_losses\n",
    "fine_val_loss = batch_stats_callback.batch_val_losses\n",
    "\n",
    "fig = plt.figure(figsize=(8, 8))\n",
    "ax1 = fig.add_subplot(2, 1, 1)\n",
    "ax1.plot(acc, label='Training Accuracy')\n",
    "ax1.plot(val_acc, label='Validation Accuracy')\n",
    "ax1.set_ylabel('Accuracy')\n",
    "ax1.set_ylim([0, 1])\n",
    "ax1.plot([initial_epoch,initial_epoch],\n",
    "         ax1.get_ylim(), label='Start Fine Tuning')\n",
    "ax1.legend(loc='lower right')\n",
    "ax1.set_title('Training and Validation Accuracy')\n",
    "\n",
    "ax2 = fig.add_subplot(2, 1, 2)\n",
    "ax2.plot(loss, label='Training Loss')\n",
    "ax2.plot(val_loss, label='Validation Loss')\n",
    "ax2.set_ylabel('Cross Entropy')\n",
    "ax2.set_ylim([0, 1])\n",
    "ax2.plot([initial_epoch,initial_epoch],\n",
    "         ax2.get_ylim(), label='Start Fine Tuning')\n",
    "ax2.legend(loc='upper right')\n",
    "ax2.set_title('Training and Validation Loss')\n",
    "ax2.set_xlabel('epoch')\n",
    "fig.show()"
   ]
  },
  {
   "cell_type": "code",
   "execution_count": null,
   "metadata": {},
   "outputs": [],
   "source": [
    "# Model export\n",
    "export_path = '/tmp/model/classification'\n",
    "model.save(export_path)\n",
    "\n",
    "print(f'Export the model to {export_path}')"
   ]
  },
  {
   "cell_type": "code",
   "execution_count": null,
   "metadata": {},
   "outputs": [],
   "source": [
    "# Check the exported model too\n",
    "reloaded = tf.keras.models.load_model(export_path)\n",
    "\n",
    "result_batch = model.predict(image_batch)\n",
    "reloaded_result_batch = reloaded.predict(image_batch)\n",
    "\n",
    "print(f'Comparison between own model and exported model {abs(reloaded_result_batch - result_batch).max()}')"
   ]
  },
  {
   "cell_type": "code",
   "execution_count": null,
   "metadata": {},
   "outputs": [],
   "source": [
    "# Plot results\n",
    "class_names = sorted(validation_data.class_indices.items(), key=lambda pair:pair[1])\n",
    "class_names = np.array([key.title() for key, value in class_names])\n",
    "print(f'Classes: {class_names}')\n",
    "\n",
    "## get result labels\n",
    "predicted_batch = model.predict(image_batch)\n",
    "predicted_id = np.argmax(predicted_batch, axis=-1)\n",
    "predicted_label_batch = class_names[predicted_id]\n",
    "\n",
    "label_id = np.argmax(label_batch, axis=-1)\n",
    "\n",
    "## plot\n",
    "fig = plt.figure(figsize=(10,9))\n",
    "fig.subplots_adjust(hspace=0.5)\n",
    "for n in range(30):\n",
    "    ax = fig.add_subplot(6, 5, n+1)\n",
    "    ax.imshow(image_batch[n])\n",
    "    color = 'green' if predicted_id[n] == label_id[n] else 'red'\n",
    "    ax.set_title(predicted_label_batch[n].title(), color=color)\n",
    "    ax.axis('off')\n",
    "_ = fig.suptitle('Model predictions (green: correct, red: incorrect)')"
   ]
  },
  {
   "cell_type": "code",
   "execution_count": null,
   "metadata": {},
   "outputs": [],
   "source": [
    "# validation data classification result\n",
    "validation_data.reset()\n",
    "\n",
    "predicted_batch = model.predict(validation_data)\n",
    "predicted_id = np.argmax(predicted_batch, axis=-1)\n",
    "\n",
    "label_id = validation_data.classes\n",
    "\n",
    "con_mat = tf.math.confusion_matrix(label_id, predicted_id)\n",
    "\n",
    "result_df = pd.DataFrame(con_mat.numpy(), index=class_names, columns=class_names, dtype=int)\n",
    "\n",
    "print('-- Validation result (Row: Actual Class, Column: Predicted Class) --')\n",
    "print(result_df)"
   ]
  },
  {
   "cell_type": "code",
   "execution_count": null,
   "metadata": {},
   "outputs": [],
   "source": [
    "# 학습 완료 후 파일 위치 복원\n",
    "queue = [dataset_root]\n",
    "count = 0\n",
    "\n",
    "while queue:\n",
    "    ptr = queue.pop()\n",
    "    for entry in os.scandir(ptr):\n",
    "        if entry.is_dir() and not entry.name.startswith('.'):\n",
    "            queue.append(entry.path)\n",
    "        elif entry.name.endswith('.jpg'):\n",
    "            shutil.move(entry.path, jpg_root)\n",
    "            count = count + 1\n",
    "shutil.rmtree(dataset_root)\n",
    "print(f'{count} files moved')"
   ]
  },
  {
   "cell_type": "markdown",
   "metadata": {},
   "source": [
    "---\n",
    "### 6. 이미지 세그멘테이션 모델 학습"
   ]
  },
  {
   "cell_type": "code",
   "execution_count": null,
   "metadata": {},
   "outputs": [],
   "source": [
    "npy_root = os.path.join(path_root, 'SegmentationClass')\n",
    "\n",
    "npy_items = list()\n",
    "for entry in os.scandir(npy_root):\n",
    "    if entry.name.startswith('.') or not entry.is_file():\n",
    "        continue\n",
    "    elif entry.name.endswith('.npy'):\n",
    "        npy_items.append(entry.path)\n",
    "npy_items.sort()\n",
    "print(f'Loaded: {len(npy_items)} files')"
   ]
  },
  {
   "cell_type": "code",
   "execution_count": null,
   "metadata": {},
   "outputs": [],
   "source": [
    "jpg_root = os.path.join(path_root, 'JPEGImages')\n",
    "\n",
    "jpg_items = list()\n",
    "for entry in os.scandir(jpg_root):\n",
    "    if entry.name.startswith('.') or not entry.is_file():\n",
    "        continue\n",
    "    elif entry.name.endswith('.jpg'):\n",
    "        jpg_items.append(entry.path)\n",
    "jpg_items.sort()\n",
    "print(f'Loaded: {len(jpg_items)} files')"
   ]
  },
  {
   "cell_type": "code",
   "execution_count": null,
   "metadata": {},
   "outputs": [],
   "source": [
    "IMG_SHAPE = (224, 224)\n",
    "def preprocess(path):\n",
    "    data = np.load(path)\n",
    "    data = resize(data, IMG_SHAPE, anti_aliasing=False)\n",
    "    data = np.round(data/np.max(data))\n",
    "    data[data > 0] = data[data > 0] + 1 # Class label + 1\n",
    "    edge = filters.sobel(data) # Find edge\n",
    "    data[edge > 0] = 1 # Set class 1 to edge\n",
    "    return data"
   ]
  },
  {
   "cell_type": "code",
   "execution_count": null,
   "metadata": {},
   "outputs": [],
   "source": [
    "X = list()\n",
    "y = list()\n",
    "for train, label in zip(jpg_items, npy_items):\n",
    "    t = imread(train)\n",
    "    t = resize(t, IMG_SHAPE, anti_aliasing=True)\n",
    "    X.append(t)\n",
    "    l = np.expand_dims(preprocess(label), axis=-1)\n",
    "    y.append(l)"
   ]
  },
  {
   "cell_type": "code",
   "execution_count": null,
   "metadata": {},
   "outputs": [],
   "source": [
    "test_size = 0.2\n",
    "random_state = None\n",
    "X_train, X_test, y_train, y_test = train_test_split(X, y, test_size=test_size, random_state=random_state)"
   ]
  },
  {
   "cell_type": "code",
   "execution_count": null,
   "metadata": {},
   "outputs": [],
   "source": [
    "train_dataset = tf.data.Dataset.from_tensor_slices((X_train, y_train))\n",
    "test_dataset = tf.data.Dataset.from_tensor_slices((X_test, y_test))"
   ]
  },
  {
   "cell_type": "code",
   "execution_count": null,
   "metadata": {},
   "outputs": [],
   "source": [
    "BATCH_SIZE = 32\n",
    "SHUFFLE_BUFFER_SIZE = 100\n",
    "train_dataset = train_dataset.shuffle(SHUFFLE_BUFFER_SIZE).batch(BATCH_SIZE)\n",
    "test_dataset = test_dataset.shuffle(SHUFFLE_BUFFER_SIZE).batch(BATCH_SIZE)"
   ]
  },
  {
   "cell_type": "code",
   "execution_count": null,
   "metadata": {},
   "outputs": [],
   "source": [
    "base_model = tf.keras.applications.MobileNetV2(input_shape=IMG_SHAPE+(3, ), include_top=False)\n",
    "\n",
    "# Use the activations of these layers\n",
    "layer_names = [\n",
    "    'block_1_expand_relu',   # 64x64\n",
    "    'block_3_expand_relu',   # 32x32\n",
    "    'block_6_expand_relu',   # 16x16\n",
    "    'block_13_expand_relu',  # 8x8\n",
    "    'block_16_project',      # 4x4\n",
    "]\n",
    "layers = [base_model.get_layer(name).output for name in layer_names]\n",
    "\n",
    "# Create the feature extraction model\n",
    "down_stack = tf.keras.Model(inputs=base_model.input, outputs=layers)\n",
    "\n",
    "down_stack.trainable = False"
   ]
  },
  {
   "cell_type": "code",
   "execution_count": null,
   "metadata": {},
   "outputs": [],
   "source": [
    "up_stack = [\n",
    "    upsample(512, 3),  # 4x4 -> 8x8\n",
    "    upsample(256, 3),  # 8x8 -> 16x16\n",
    "    upsample(128, 3),  # 16x16 -> 32x32\n",
    "    upsample(64, 3),   # 32x32 -> 64x64\n",
    "]"
   ]
  },
  {
   "cell_type": "code",
   "execution_count": null,
   "metadata": {},
   "outputs": [],
   "source": [
    "def display(display_list):\n",
    "    plt.figure(figsize=(15, 15))\n",
    "\n",
    "    title = ['Input Image', 'True Mask', 'Predicted Mask']\n",
    "\n",
    "    for i in range(len(display_list)):\n",
    "        plt.subplot(1, len(display_list), i+1)\n",
    "        plt.title(title[i])\n",
    "        plt.imshow(tf.keras.preprocessing.image.array_to_img(display_list[i]))\n",
    "        plt.axis('off')\n",
    "    plt.show()"
   ]
  },
  {
   "cell_type": "code",
   "execution_count": null,
   "metadata": {},
   "outputs": [],
   "source": [
    "for image, mask in train_dataset.take(1):\n",
    "    sample_image, sample_mask = image[0], mask[0]\n",
    "display([sample_image, sample_mask])"
   ]
  },
  {
   "cell_type": "code",
   "execution_count": null,
   "metadata": {},
   "outputs": [],
   "source": [
    "OUTPUT_CHANNELS = 3\n",
    "def unet_model(output_channels):\n",
    "    inputs = tf.keras.layers.Input(shape=IMG_SHAPE+(3, ))\n",
    "    x = inputs\n",
    "\n",
    "    # Downsampling through the model\n",
    "    skips = down_stack(x)\n",
    "    x = skips[-1]\n",
    "    skips = reversed(skips[:-1])\n",
    "\n",
    "    # Upsampling and establishing the skip connections\n",
    "    for up, skip in zip(up_stack, skips):\n",
    "        x = up(x)\n",
    "        concat = tf.keras.layers.Concatenate()\n",
    "        x = concat([x, skip])\n",
    "\n",
    "    # This is the last layer of the model\n",
    "    last = tf.keras.layers.Conv2DTranspose(\n",
    "                   output_channels, 3, strides=2,\n",
    "                   padding='same')  #64x64 -> 128x128\n",
    "\n",
    "    x = last(x)\n",
    "\n",
    "    return tf.keras.Model(inputs=inputs, outputs=x)"
   ]
  },
  {
   "cell_type": "code",
   "execution_count": null,
   "metadata": {},
   "outputs": [],
   "source": [
    "model = unet_model(OUTPUT_CHANNELS)\n",
    "model.compile(optimizer='adam',\n",
    "              loss=tf.keras.losses.SparseCategoricalCrossentropy(from_logits=True),\n",
    "              metrics=['accuracy'])\n",
    "model.summary()"
   ]
  },
  {
   "cell_type": "code",
   "execution_count": null,
   "metadata": {},
   "outputs": [],
   "source": [
    "def create_mask(pred_mask):\n",
    "    pred_mask = tf.argmax(pred_mask, axis=-1)\n",
    "    pred_mask = pred_mask[..., tf.newaxis]\n",
    "    return pred_mask[0]"
   ]
  },
  {
   "cell_type": "code",
   "execution_count": null,
   "metadata": {},
   "outputs": [],
   "source": [
    "def show_predictions(dataset=None, num=1):\n",
    "    if dataset:\n",
    "        for image, mask in dataset.take(num):\n",
    "            pred_mask = model.predict(image)\n",
    "            display([image[0], mask[0], create_mask(pred_mask)])\n",
    "    else:\n",
    "        display([X_test[0], y_test[0],\n",
    "                 create_mask(model.predict(X_test[0][tf.newaxis, ...]))])"
   ]
  },
  {
   "cell_type": "code",
   "execution_count": null,
   "metadata": {},
   "outputs": [],
   "source": [
    "CALLBACKTERM = 10\n",
    "class DisplayCallback(tf.keras.callbacks.Callback):\n",
    "    def on_epoch_end(self, epoch, logs=None):\n",
    "        if epoch % CALLBACKTERM == 0:\n",
    "            show_predictions()\n",
    "            print ('\\nSample Prediction after epoch {}\\n'.format(epoch+1))"
   ]
  },
  {
   "cell_type": "code",
   "execution_count": null,
   "metadata": {},
   "outputs": [],
   "source": [
    "EPOCHS = 20\n",
    "\n",
    "model_history = model.fit(train_dataset, epochs=EPOCHS,\n",
    "                          validation_data=test_dataset,\n",
    "                          callbacks=[DisplayCallback()])"
   ]
  },
  {
   "cell_type": "code",
   "execution_count": null,
   "metadata": {},
   "outputs": [],
   "source": [
    "# Model export\n",
    "export_path = '/tmp/model/argumentation'\n",
    "model.save(export_path)\n",
    "\n",
    "print(f'Export the model to {export_path}')"
   ]
  },
  {
   "cell_type": "code",
   "execution_count": null,
   "metadata": {},
   "outputs": [],
   "source": [
    "# Check the exported model too\n",
    "reloaded = tf.keras.models.load_model(export_path)\n",
    "\n",
    "r1 = model.predict(np.expand_dims(X_test[IDX], axis=0))\n",
    "r2 = reloaded.predict(np.expand_dims(X_test[IDX], axis=0))\n",
    "\n",
    "print(f'Comparison between own model and exported model {abs(r1 - r2).max()}')"
   ]
  },
  {
   "cell_type": "code",
   "execution_count": null,
   "metadata": {},
   "outputs": [],
   "source": [
    "IDX = 1\n",
    "r = model.predict(np.expand_dims(X_test[IDX], axis=0))\n",
    "display([X_test[IDX], y_test[IDX], create_mask(r)])"
   ]
  },
  {
   "cell_type": "code",
   "execution_count": null,
   "metadata": {},
   "outputs": [],
   "source": [
    "try:\n",
    "    from google.colab import drive\n",
    "    print(f'Google Colab 환경입니다.')\n",
    "    drive.mount('/content/gdrive')\n",
    "    model_path = '/content/gdrive/My Drive/Colab Notebooks/Model.tar.gz'\n",
    "except ModuleNotFoundError:\n",
    "    print(f'Google colab 환경이 아닙니다.')\n",
    "    model_path = './Dataset/Model.tar.gz'\n",
    "model_path = os.path.abspath(os.path.expanduser(model_path))\n",
    "print(f'{model_path=}')"
   ]
  },
  {
   "cell_type": "code",
   "execution_count": null,
   "metadata": {},
   "outputs": [],
   "source": [
    "!tar -cvf $model_path /tmp/model &> /dev/null"
   ]
  },
  {
   "cell_type": "code",
   "execution_count": null,
   "metadata": {},
   "outputs": [],
   "source": []
  }
 ],
 "metadata": {
  "kernelspec": {
   "display_name": "CellClassification",
   "language": "python",
   "name": "cell"
  },
  "language_info": {
   "codemirror_mode": {
    "name": "ipython",
    "version": 3
   },
   "file_extension": ".py",
   "mimetype": "text/x-python",
   "name": "python",
   "nbconvert_exporter": "python",
   "pygments_lexer": "ipython3",
   "version": "3.8.6"
  }
 },
 "nbformat": 4,
 "nbformat_minor": 4
}
