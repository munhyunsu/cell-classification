{
 "cells": [
  {
   "cell_type": "code",
   "execution_count": 1,
   "metadata": {},
   "outputs": [],
   "source": [
    "# Setup library\n",
    "## install -r requirements.txt\n",
    "from __future__ import absolute_import, division, print_function, unicode_literals\n",
    "import os\n",
    "\n",
    "import matplotlib.pylab as plt\n",
    "%matplotlib widget\n",
    "\n",
    "import tensorflow as tf\n",
    "import tensorflow_hub as hub\n",
    "from tensorflow.keras import layers"
   ]
  },
  {
   "cell_type": "code",
   "execution_count": 2,
   "metadata": {},
   "outputs": [],
   "source": [
    "# Classifier from TF hub\n",
    "import numpy as np\n",
    "\n",
    "classifier_url = 'https://tfhub.dev/google/tf2-preview/mobilenet_v2/classification/2' #@param {type:\"string\"}\n",
    "IMAGE_SHAPE = (224, 224)\n",
    "classifier = tf.keras.Sequential([\n",
    "    hub.KerasLayer(classifier_url, input_shape=IMAGE_SHAPE+(3, )) # Channel 3 RGB\n",
    "])\n",
    "\n",
    "## And labels\n",
    "labels_path = tf.keras.utils.get_file('ImageNetLabels.txt', \n",
    "                                      'https://storage.googleapis.com/download.tensorflow.org/data/ImageNetLabels.txt')\n",
    "imagenet_labels = np.array(open(labels_path).read().splitlines())"
   ]
  },
  {
   "cell_type": "code",
   "execution_count": 3,
   "metadata": {},
   "outputs": [
    {
     "name": "stdout",
     "output_type": "stream",
     "text": [
      "Dataset root: /home/harny/Github/cell-classification/data\n",
      "Found 842 images belonging to 3 classes.\n",
      "Found 92 images belonging to 3 classes.\n",
      "Image batch shape: (32, 224, 224, 3)\n",
      "Label batch shape: (32, 3)\n"
     ]
    }
   ],
   "source": [
    "# prepare dataset\n",
    "dataset_root = os.path.abspath(os.path.expanduser('./data/'))\n",
    "print(f'Dataset root: {dataset_root}')\n",
    "\n",
    "image_generator = tf.keras.preprocessing.image.ImageDataGenerator(rescale=1/255,\n",
    "                                                                  validation_split=0.1)\n",
    "train_data = image_generator.flow_from_directory(dataset_root, target_size=IMAGE_SHAPE,\n",
    "                                                 subset='training')\n",
    "validation_data = image_generator.flow_from_directory(dataset_root, target_size=IMAGE_SHAPE,\n",
    "                                                 subset='validation')\n",
    "\n",
    "for image_batch, label_batch in validation_data:\n",
    "    print(f'Image batch shape: {image_batch.shape}')\n",
    "    print(f'Label batch shape: {label_batch.shape}')\n",
    "    break"
   ]
  },
  {
   "cell_type": "code",
   "execution_count": 4,
   "metadata": {},
   "outputs": [
    {
     "name": "stdout",
     "output_type": "stream",
     "text": [
      "Batch result shape: (32, 1001)\n",
      "Batch predicted class names: ['coral reef' 'stole' 'nematode' 'nematode' 'bubble' 'nematode'\n",
      " 'fire screen' 'bubble' 'brain coral' 'brain coral' 'bubble'\n",
      " 'great white shark' 'chain mail' 'stole' 'bubble' 'brain coral' 'bubble'\n",
      " 'nematode' 'bubble' 'screw' 'chain mail' 'bubble' 'jellyfish'\n",
      " 'coral reef' 'bubble' 'starfish' 'brain coral' 'fire screen' 'bubble'\n",
      " 'paper towel' 'bubble' 'nematode']\n"
     ]
    },
    {
     "data": {
      "application/vnd.jupyter.widget-view+json": {
       "model_id": "507492110b0746eba6eb014e660bc53a",
       "version_major": 2,
       "version_minor": 0
      },
      "text/plain": [
       "Canvas(toolbar=Toolbar(toolitems=[('Home', 'Reset original view', 'home', 'home'), ('Back', 'Back to previous …"
      ]
     },
     "metadata": {},
     "output_type": "display_data"
    }
   ],
   "source": [
    "# Predict batch input example\n",
    "## using original ImangeNet classifier\n",
    "\n",
    "import PIL.Image as Image\n",
    "\n",
    "result_batch = classifier.predict(image_batch)\n",
    "print(f'Batch result shape: {result_batch.shape}')\n",
    "\n",
    "predicted_class_names = imagenet_labels[np.argmax(result_batch, axis=-1)]\n",
    "print(f'Batch predicted class names: {predicted_class_names}')\n",
    "\n",
    "fig1 = plt.figure(figsize=(10, 9))\n",
    "fig1.subplots_adjust(hspace=0.5)\n",
    "for n in range(30):\n",
    "    ax = fig1.add_subplot(6, 5, n+1)\n",
    "    ax.imshow(image_batch[n])\n",
    "    ax.set_title(predicted_class_names[n])\n",
    "    ax.axis('off')\n",
    "_ = fig1.suptitle('ImageNet predictions')"
   ]
  },
  {
   "cell_type": "code",
   "execution_count": 5,
   "metadata": {},
   "outputs": [
    {
     "name": "stdout",
     "output_type": "stream",
     "text": [
      "Feature vector shape: (32, 1280)\n"
     ]
    }
   ],
   "source": [
    "# Prepare transfer learning\n",
    "## Download headless (without the top classification layer) model\n",
    "feature_extractor_url = 'https://tfhub.dev/google/tf2-preview/mobilenet_v2/feature_vector/2' #@param {type:\"string\"}\n",
    "feature_extractor_layer = hub.KerasLayer(feature_extractor_url,\n",
    "                                         input_shape=IMAGE_SHAPE+(3, ))\n",
    "feature_batch = feature_extractor_layer(image_batch)\n",
    "print(f'Feature vector shape: {feature_batch.shape}')\n",
    "\n",
    "## Frozen feature extraction layer\n",
    "feature_extractor_layer.trainable = False # for transfer learning classifier\n",
    "\n",
    "## Make a model for classification\n",
    "model = tf.keras.Sequential([\n",
    "    feature_extractor_layer,\n",
    "    layers.Dense(train_data.num_classes, activation='softmax')\n",
    "])"
   ]
  },
  {
   "cell_type": "code",
   "execution_count": 6,
   "metadata": {},
   "outputs": [
    {
     "name": "stdout",
     "output_type": "stream",
     "text": [
      "Model: \"sequential_1\"\n",
      "_________________________________________________________________\n",
      "Layer (type)                 Output Shape              Param #   \n",
      "=================================================================\n",
      "keras_layer_1 (KerasLayer)   (None, 1280)              2257984   \n",
      "_________________________________________________________________\n",
      "dense (Dense)                (None, 3)                 3843      \n",
      "=================================================================\n",
      "Total params: 2,261,827\n",
      "Trainable params: 3,843\n",
      "Non-trainable params: 2,257,984\n",
      "_________________________________________________________________\n",
      "Prediction shape: (32, 3)\n"
     ]
    }
   ],
   "source": [
    "## Check the model and prediction result\n",
    "model.summary()\n",
    "\n",
    "predictions = model(image_batch)\n",
    "print(f'Prediction shape: {predictions.shape}')"
   ]
  },
  {
   "cell_type": "code",
   "execution_count": 7,
   "metadata": {},
   "outputs": [
    {
     "name": "stdout",
     "output_type": "stream",
     "text": [
      "WARNING:tensorflow:From <ipython-input-7-2191ffa009e6>:44: Model.fit_generator (from tensorflow.python.keras.engine.training) is deprecated and will be removed in a future version.\n",
      "Instructions for updating:\n",
      "Please use Model.fit, which supports generators.\n"
     ]
    },
    {
     "name": "stderr",
     "output_type": "stream",
     "text": [
      "WARNING:tensorflow:From <ipython-input-7-2191ffa009e6>:44: Model.fit_generator (from tensorflow.python.keras.engine.training) is deprecated and will be removed in a future version.\n",
      "Instructions for updating:\n",
      "Please use Model.fit, which supports generators.\n"
     ]
    },
    {
     "name": "stdout",
     "output_type": "stream",
     "text": [
      "WARNING:tensorflow:sample_weight modes were coerced from\n",
      "  ...\n",
      "    to  \n",
      "  ['...']\n"
     ]
    },
    {
     "name": "stderr",
     "output_type": "stream",
     "text": [
      "WARNING:tensorflow:sample_weight modes were coerced from\n",
      "  ...\n",
      "    to  \n",
      "  ['...']\n"
     ]
    },
    {
     "name": "stdout",
     "output_type": "stream",
     "text": [
      "WARNING:tensorflow:sample_weight modes were coerced from\n",
      "  ...\n",
      "    to  \n",
      "  ['...']\n"
     ]
    },
    {
     "name": "stderr",
     "output_type": "stream",
     "text": [
      "WARNING:tensorflow:sample_weight modes were coerced from\n",
      "  ...\n",
      "    to  \n",
      "  ['...']\n"
     ]
    },
    {
     "name": "stdout",
     "output_type": "stream",
     "text": [
      "Train for 27.0 steps, validate for 3 steps\n",
      "Epoch 1/20\n",
      "27/27 [==============================] - 30s 1s/step - loss: 1.0058 - acc: 0.5214 - val_loss: 0.7009 - val_acc: 0.6957\n",
      "Epoch 2/20\n",
      "27/27 [==============================] - 30s 1s/step - loss: 0.5065 - acc: 0.8242 - val_loss: 0.4808 - val_acc: 0.8043\n",
      "Epoch 3/20\n",
      "27/27 [==============================] - 27s 989ms/step - loss: 0.3739 - acc: 0.8800 - val_loss: 0.3708 - val_acc: 0.8913\n",
      "Epoch 4/20\n",
      "27/27 [==============================] - 28s 1s/step - loss: 0.2971 - acc: 0.9264 - val_loss: 0.3448 - val_acc: 0.8804\n",
      "Epoch 5/20\n",
      "27/27 [==============================] - 28s 1s/step - loss: 0.2566 - acc: 0.9382 - val_loss: 0.3119 - val_acc: 0.9022\n",
      "Epoch 6/20\n",
      "27/27 [==============================] - 28s 1s/step - loss: 0.2211 - acc: 0.9466 - val_loss: 0.3115 - val_acc: 0.9022\n",
      "Epoch 7/20\n",
      "27/27 [==============================] - 29s 1s/step - loss: 0.1993 - acc: 0.9525 - val_loss: 0.3130 - val_acc: 0.8913\n",
      "Epoch 8/20\n",
      "27/27 [==============================] - 31s 1s/step - loss: 0.1757 - acc: 0.9608 - val_loss: 0.2705 - val_acc: 0.9239\n",
      "Epoch 9/20\n",
      "27/27 [==============================] - 29s 1s/step - loss: 0.1605 - acc: 0.9656 - val_loss: 0.2699 - val_acc: 0.9239\n",
      "Epoch 10/20\n",
      "27/27 [==============================] - 28s 1s/step - loss: 0.1456 - acc: 0.9679 - val_loss: 0.2410 - val_acc: 0.9348\n",
      "Epoch 11/20\n",
      "27/27 [==============================] - 28s 1s/step - loss: 0.1344 - acc: 0.9703 - val_loss: 0.2254 - val_acc: 0.9348\n",
      "Epoch 12/20\n",
      "27/27 [==============================] - 27s 1s/step - loss: 0.1226 - acc: 0.9774 - val_loss: 0.2602 - val_acc: 0.9130\n",
      "Epoch 13/20\n",
      "27/27 [==============================] - 27s 1s/step - loss: 0.1162 - acc: 0.9751 - val_loss: 0.2313 - val_acc: 0.9348\n",
      "Epoch 14/20\n",
      "27/27 [==============================] - 28s 1s/step - loss: 0.1061 - acc: 0.9822 - val_loss: 0.2007 - val_acc: 0.9348\n",
      "Epoch 15/20\n",
      "27/27 [==============================] - 28s 1s/step - loss: 0.1004 - acc: 0.9810 - val_loss: 0.2133 - val_acc: 0.9348\n",
      "Epoch 16/20\n",
      "27/27 [==============================] - 28s 1s/step - loss: 0.0940 - acc: 0.9857 - val_loss: 0.2113 - val_acc: 0.9348\n",
      "Epoch 17/20\n",
      "27/27 [==============================] - 28s 1s/step - loss: 0.0892 - acc: 0.9857 - val_loss: 0.2066 - val_acc: 0.9348\n",
      "Epoch 18/20\n",
      "27/27 [==============================] - 28s 1s/step - loss: 0.0830 - acc: 0.9905 - val_loss: 0.2007 - val_acc: 0.9348\n",
      "Epoch 19/20\n",
      "27/27 [==============================] - 29s 1s/step - loss: 0.0796 - acc: 0.9881 - val_loss: 0.1860 - val_acc: 0.9348\n",
      "Epoch 20/20\n",
      "27/27 [==============================] - 28s 1s/step - loss: 0.0761 - acc: 0.9893 - val_loss: 0.1943 - val_acc: 0.9239\n"
     ]
    }
   ],
   "source": [
    "# Train build\n",
    "## Compile model for train\n",
    "base_learning_rate = 0.001 # default\n",
    "model.compile(\n",
    "    optimizer=tf.keras.optimizers.Adam(lr=base_learning_rate),\n",
    "    loss='categorical_crossentropy',\n",
    "    metrics=['acc'])\n",
    "\n",
    "## Log class\n",
    "### https://www.tensorflow.org/api_docs/python/tf/keras/callbacks/Callback\n",
    "class CollectBatchStats(tf.keras.callbacks.Callback):\n",
    "    def __init__(self):\n",
    "        self.batch_losses = []\n",
    "        self.batch_val_losses = []\n",
    "        self.batch_acc = []\n",
    "        self.batch_val_acc = []\n",
    "\n",
    "#     def on_train_batch_end(self, batch, logs=None):\n",
    "#         self.batch_losses.append(logs['loss'])\n",
    "#         self.batch_acc.append(logs['acc'])\n",
    "#         self.model.reset_metrics()\n",
    "    \n",
    "#     def on_test_batch_end(self, batch, logs=None):\n",
    "#         self.batch_val_losses.append(logs['loss'])\n",
    "#         self.batch_val_acc.append(logs['acc'])\n",
    "#         self.model.reset_metrics()\n",
    "    \n",
    "    def on_epoch_end(self, epoch, logs=None):\n",
    "        self.batch_losses.append(logs['loss'])\n",
    "        self.batch_acc.append(logs['acc'])\n",
    "        self.batch_val_losses.append(logs['val_loss'])\n",
    "        self.batch_val_acc.append(logs['val_acc'])\n",
    "        self.model.reset_metrics()\n",
    "\n",
    "\n",
    "steps_per_epoch = np.ceil(train_data.samples/train_data.batch_size) # train all dataset per epoch\n",
    "initial_epoch = 20\n",
    "batch_stats_callback = CollectBatchStats()\n",
    "\n",
    "history = model.fit_generator(train_data,  \n",
    "                              epochs=initial_epoch,\n",
    "                              steps_per_epoch=steps_per_epoch,\n",
    "                              validation_data=validation_data,\n",
    "                              callbacks=[batch_stats_callback])"
   ]
  },
  {
   "cell_type": "code",
   "execution_count": 8,
   "metadata": {},
   "outputs": [
    {
     "data": {
      "application/vnd.jupyter.widget-view+json": {
       "model_id": "9b72673bf7994661b4c78927b66ee2f7",
       "version_major": 2,
       "version_minor": 0
      },
      "text/plain": [
       "Canvas(toolbar=Toolbar(toolitems=[('Home', 'Reset original view', 'home', 'home'), ('Back', 'Back to previous …"
      ]
     },
     "metadata": {},
     "output_type": "display_data"
    },
    {
     "data": {
      "text/plain": [
       "Text(0.5, 0, 'epoch')"
      ]
     },
     "execution_count": 8,
     "metadata": {},
     "output_type": "execute_result"
    }
   ],
   "source": [
    "# Draw learning curves chart\n",
    "acc = batch_stats_callback.batch_acc\n",
    "val_acc = batch_stats_callback.batch_val_acc\n",
    "loss = batch_stats_callback.batch_losses\n",
    "val_loss = batch_stats_callback.batch_val_losses\n",
    "\n",
    "fig2 = plt.figure(figsize=(8, 8))\n",
    "ax1 = fig2.add_subplot(2, 1, 1)\n",
    "ax1.plot(acc, label='Training Accuracy')\n",
    "ax1.plot(val_acc, label='Validation Accuracy')\n",
    "ax1.legend(loc='lower right')\n",
    "ax1.set_ylabel('Accuracy')\n",
    "ax1.set_ylim([min(plt.ylim()),1])\n",
    "ax1.set_title('Training and Validation Accuracy')\n",
    "\n",
    "ax2 = fig2.add_subplot(2, 1, 2)\n",
    "ax2.plot(loss, label='Training Loss')\n",
    "ax2.plot(val_loss, label='Validation Loss')\n",
    "ax2.legend(loc='upper right')\n",
    "ax2.set_ylabel('Cross Entropy')\n",
    "ax2.set_ylim([0,1.0])\n",
    "ax2.set_title('Training and Validation Loss')\n",
    "ax2.set_xlabel('epoch')"
   ]
  },
  {
   "cell_type": "code",
   "execution_count": 9,
   "metadata": {},
   "outputs": [
    {
     "name": "stdout",
     "output_type": "stream",
     "text": [
      "Classes: ['Hek293' 'Hela' 'Pc12']\n"
     ]
    },
    {
     "data": {
      "application/vnd.jupyter.widget-view+json": {
       "model_id": "66a52fa3502b4b4a92a3dfce237df57a",
       "version_major": 2,
       "version_minor": 0
      },
      "text/plain": [
       "Canvas(toolbar=Toolbar(toolitems=[('Home', 'Reset original view', 'home', 'home'), ('Back', 'Back to previous …"
      ]
     },
     "metadata": {},
     "output_type": "display_data"
    }
   ],
   "source": [
    "# Plot results\n",
    "class_names = sorted(validation_data.class_indices.items(), key=lambda pair:pair[1])\n",
    "class_names = np.array([key.title() for key, value in class_names])\n",
    "print(f'Classes: {class_names}')\n",
    "\n",
    "## get result labels\n",
    "predicted_batch = model.predict(image_batch)\n",
    "predicted_id = np.argmax(predicted_batch, axis=-1)\n",
    "predicted_label_batch = class_names[predicted_id]\n",
    "\n",
    "label_id = np.argmax(label_batch, axis=-1)\n",
    "\n",
    "## plot\n",
    "fig3 = plt.figure(figsize=(10,9))\n",
    "fig3.subplots_adjust(hspace=0.5)\n",
    "for n in range(30):\n",
    "    ax = fig3.add_subplot(6, 5, n+1)\n",
    "    ax.imshow(image_batch[n])\n",
    "    color = 'green' if predicted_id[n] == label_id[n] else 'red'\n",
    "    ax.set_title(predicted_label_batch[n].title(), color=color)\n",
    "    ax.axis('off')\n",
    "_ = fig3.suptitle('Model predictions (green: correct, red: incorrect)')"
   ]
  },
  {
   "cell_type": "code",
   "execution_count": 10,
   "metadata": {},
   "outputs": [
    {
     "name": "stdout",
     "output_type": "stream",
     "text": [
      "WARNING:tensorflow:From /home/harny/Github/cell-classification/venv/lib/python3.7/site-packages/tensorflow_core/python/ops/resource_variable_ops.py:1786: calling BaseResourceVariable.__init__ (from tensorflow.python.ops.resource_variable_ops) with constraint is deprecated and will be removed in a future version.\n",
      "Instructions for updating:\n",
      "If using Keras pass *_constraint arguments to layers.\n"
     ]
    },
    {
     "name": "stderr",
     "output_type": "stream",
     "text": [
      "WARNING:tensorflow:From /home/harny/Github/cell-classification/venv/lib/python3.7/site-packages/tensorflow_core/python/ops/resource_variable_ops.py:1786: calling BaseResourceVariable.__init__ (from tensorflow.python.ops.resource_variable_ops) with constraint is deprecated and will be removed in a future version.\n",
      "Instructions for updating:\n",
      "If using Keras pass *_constraint arguments to layers.\n"
     ]
    },
    {
     "name": "stdout",
     "output_type": "stream",
     "text": [
      "INFO:tensorflow:Assets written to: ./saved_models/1580975332/assets\n"
     ]
    },
    {
     "name": "stderr",
     "output_type": "stream",
     "text": [
      "INFO:tensorflow:Assets written to: ./saved_models/1580975332/assets\n"
     ]
    },
    {
     "name": "stdout",
     "output_type": "stream",
     "text": [
      "Export the model to ./saved_models/1580975332\n"
     ]
    }
   ],
   "source": [
    "# Export model\n",
    "import time\n",
    "t = time.time()\n",
    "\n",
    "export_path = f'./saved_models/{int(t)}'\n",
    "model.save(export_path, save_format='tf')\n",
    "\n",
    "print(f'Export the model to {export_path}')"
   ]
  },
  {
   "cell_type": "code",
   "execution_count": 11,
   "metadata": {},
   "outputs": [
    {
     "name": "stdout",
     "output_type": "stream",
     "text": [
      "Comparison between own model and exported model 0.0\n"
     ]
    }
   ],
   "source": [
    "# Check the exported model\n",
    "reloaded = tf.keras.models.load_model(export_path)\n",
    "\n",
    "result_batch = model.predict(image_batch)\n",
    "reloaded_result_batch = reloaded.predict(image_batch)\n",
    "\n",
    "print(f'Comparison between own model and exported model {abs(reloaded_result_batch - result_batch).max()}')"
   ]
  },
  {
   "cell_type": "code",
   "execution_count": 12,
   "metadata": {},
   "outputs": [
    {
     "name": "stdout",
     "output_type": "stream",
     "text": [
      "Model: \"sequential_1\"\n",
      "_________________________________________________________________\n",
      "Layer (type)                 Output Shape              Param #   \n",
      "=================================================================\n",
      "keras_layer_1 (KerasLayer)   (None, 1280)              2257984   \n",
      "_________________________________________________________________\n",
      "dense (Dense)                (None, 3)                 3843      \n",
      "=================================================================\n",
      "Total params: 2,261,827\n",
      "Trainable params: 2,227,715\n",
      "Non-trainable params: 34,112\n",
      "_________________________________________________________________\n"
     ]
    }
   ],
   "source": [
    "## Unfrozen feature extraction layer\n",
    "feature_extractor_layer.trainable = True\n",
    "\n",
    "model.compile(\n",
    "    optimizer=tf.keras.optimizers.Adam(lr=base_learning_rate/10),\n",
    "    loss=tf.keras.losses.CategoricalCrossentropy(),\n",
    "    metrics=['acc'])\n",
    "model.summary()"
   ]
  },
  {
   "cell_type": "code",
   "execution_count": 13,
   "metadata": {},
   "outputs": [
    {
     "name": "stdout",
     "output_type": "stream",
     "text": [
      "WARNING:tensorflow:sample_weight modes were coerced from\n",
      "  ...\n",
      "    to  \n",
      "  ['...']\n"
     ]
    },
    {
     "name": "stderr",
     "output_type": "stream",
     "text": [
      "WARNING:tensorflow:sample_weight modes were coerced from\n",
      "  ...\n",
      "    to  \n",
      "  ['...']\n"
     ]
    },
    {
     "name": "stdout",
     "output_type": "stream",
     "text": [
      "WARNING:tensorflow:sample_weight modes were coerced from\n",
      "  ...\n",
      "    to  \n",
      "  ['...']\n"
     ]
    },
    {
     "name": "stderr",
     "output_type": "stream",
     "text": [
      "WARNING:tensorflow:sample_weight modes were coerced from\n",
      "  ...\n",
      "    to  \n",
      "  ['...']\n"
     ]
    },
    {
     "name": "stdout",
     "output_type": "stream",
     "text": [
      "Train for 27.0 steps, validate for 3 steps\n",
      "Epoch 21/40\n",
      "27/27 [==============================] - 67s 2s/step - loss: 0.8950 - acc: 0.7720 - val_loss: 0.4584 - val_acc: 0.8370\n",
      "Epoch 22/40\n",
      "27/27 [==============================] - 64s 2s/step - loss: 0.1315 - acc: 0.9905 - val_loss: 0.4150 - val_acc: 0.8587\n",
      "Epoch 23/40\n",
      "27/27 [==============================] - 71s 3s/step - loss: 0.0910 - acc: 1.0000 - val_loss: 0.4012 - val_acc: 0.8913\n",
      "Epoch 24/40\n",
      "27/27 [==============================] - 61s 2s/step - loss: 0.0868 - acc: 1.0000 - val_loss: 0.3649 - val_acc: 0.9022\n",
      "Epoch 25/40\n",
      "27/27 [==============================] - 62s 2s/step - loss: 0.0857 - acc: 1.0000 - val_loss: 0.3376 - val_acc: 0.9022\n",
      "Epoch 26/40\n",
      "27/27 [==============================] - 63s 2s/step - loss: 0.0852 - acc: 1.0000 - val_loss: 0.3084 - val_acc: 0.9022\n",
      "Epoch 27/40\n",
      "27/27 [==============================] - 65s 2s/step - loss: 0.0848 - acc: 1.0000 - val_loss: 0.2866 - val_acc: 0.8913\n",
      "Epoch 28/40\n",
      "27/27 [==============================] - 70s 3s/step - loss: 0.0845 - acc: 1.0000 - val_loss: 0.2768 - val_acc: 0.9022\n",
      "Epoch 29/40\n",
      "27/27 [==============================] - 68s 3s/step - loss: 0.0843 - acc: 1.0000 - val_loss: 0.2699 - val_acc: 0.9130\n",
      "Epoch 30/40\n",
      "27/27 [==============================] - 66s 2s/step - loss: 0.0842 - acc: 1.0000 - val_loss: 0.2541 - val_acc: 0.9457\n",
      "Epoch 31/40\n",
      "27/27 [==============================] - 66s 2s/step - loss: 0.0840 - acc: 1.0000 - val_loss: 0.2415 - val_acc: 0.9565\n",
      "Epoch 32/40\n",
      "27/27 [==============================] - 65s 2s/step - loss: 0.0839 - acc: 1.0000 - val_loss: 0.2276 - val_acc: 0.9565\n",
      "Epoch 33/40\n",
      "27/27 [==============================] - 64s 2s/step - loss: 0.0838 - acc: 1.0000 - val_loss: 0.2194 - val_acc: 0.9674\n",
      "Epoch 34/40\n",
      "27/27 [==============================] - 66s 2s/step - loss: 0.0838 - acc: 1.0000 - val_loss: 0.2134 - val_acc: 0.9783\n",
      "Epoch 35/40\n",
      "27/27 [==============================] - 63s 2s/step - loss: 0.0837 - acc: 1.0000 - val_loss: 0.2121 - val_acc: 0.9783\n",
      "Epoch 36/40\n",
      "27/27 [==============================] - 65s 2s/step - loss: 0.0836 - acc: 1.0000 - val_loss: 0.2130 - val_acc: 0.9783\n",
      "Epoch 37/40\n",
      "27/27 [==============================] - 66s 2s/step - loss: 0.0836 - acc: 1.0000 - val_loss: 0.2133 - val_acc: 0.9674\n",
      "Epoch 38/40\n",
      "27/27 [==============================] - 64s 2s/step - loss: 0.0835 - acc: 1.0000 - val_loss: 0.2140 - val_acc: 0.9674\n",
      "Epoch 39/40\n",
      "27/27 [==============================] - 62s 2s/step - loss: 0.0835 - acc: 1.0000 - val_loss: 0.2149 - val_acc: 0.9674\n",
      "Epoch 40/40\n",
      "27/27 [==============================] - 64s 2s/step - loss: 0.0835 - acc: 1.0000 - val_loss: 0.2160 - val_acc: 0.9674\n"
     ]
    }
   ],
   "source": [
    "finetune_epoch = 20\n",
    "\n",
    "history_fine = model.fit_generator(train_data,\n",
    "                                   epochs=initial_epoch+finetune_epoch,\n",
    "                                   initial_epoch=initial_epoch, # == history.epoch[-1]+1\n",
    "                                   steps_per_epoch=steps_per_epoch,\n",
    "                                   validation_data=validation_data,\n",
    "                                   callbacks = [batch_stats_callback])"
   ]
  },
  {
   "cell_type": "code",
   "execution_count": 16,
   "metadata": {},
   "outputs": [
    {
     "data": {
      "application/vnd.jupyter.widget-view+json": {
       "model_id": "35c64ff9b47a4998916f053db1c91e7a",
       "version_major": 2,
       "version_minor": 0
      },
      "text/plain": [
       "Canvas(toolbar=Toolbar(toolitems=[('Home', 'Reset original view', 'home', 'home'), ('Back', 'Back to previous …"
      ]
     },
     "metadata": {},
     "output_type": "display_data"
    },
    {
     "data": {
      "text/plain": [
       "Text(0.5, 0, 'epoch')"
      ]
     },
     "execution_count": 16,
     "metadata": {},
     "output_type": "execute_result"
    }
   ],
   "source": [
    "# Draw learning curves chart\n",
    "fine_acc = batch_stats_callback.batch_acc\n",
    "fine_val_acc = batch_stats_callback.batch_val_acc\n",
    "fine_loss = batch_stats_callback.batch_losses\n",
    "fine_val_loss = batch_stats_callback.batch_val_losses\n",
    "\n",
    "fig4 = plt.figure(figsize=(8, 8))\n",
    "ax1 = fig4.add_subplot(2, 1, 1)\n",
    "ax1.plot(acc, label='Training Accuracy')\n",
    "ax1.plot(val_acc, label='Validation Accuracy')\n",
    "ax1.set_ylabel('Accuracy')\n",
    "ax1.set_ylim([min(plt.ylim()),1])\n",
    "ax1.plot([initial_epoch,initial_epoch],\n",
    "         ax1.get_ylim(), label='Start Fine Tuning')\n",
    "ax1.legend(loc='lower right')\n",
    "ax1.set_title('Training and Validation Accuracy')\n",
    "\n",
    "ax2 = fig4.add_subplot(2, 1, 2)\n",
    "ax2.plot(loss, label='Training Loss')\n",
    "ax2.plot(val_loss, label='Validation Loss')\n",
    "ax2.set_ylabel('Cross Entropy')\n",
    "ax2.set_ylim([0,1.0])\n",
    "ax2.plot([initial_epoch,initial_epoch],\n",
    "         ax2.get_ylim(), label='Start Fine Tuning')\n",
    "ax2.legend(loc='upper right')\n",
    "ax2.set_title('Training and Validation Loss')\n",
    "ax2.set_xlabel('epoch')"
   ]
  },
  {
   "cell_type": "code",
   "execution_count": 17,
   "metadata": {},
   "outputs": [
    {
     "name": "stdout",
     "output_type": "stream",
     "text": [
      "Classes: ['Hek293' 'Hela' 'Pc12']\n"
     ]
    },
    {
     "data": {
      "application/vnd.jupyter.widget-view+json": {
       "model_id": "715237c6b2574a679255488cf327e09c",
       "version_major": 2,
       "version_minor": 0
      },
      "text/plain": [
       "Canvas(toolbar=Toolbar(toolitems=[('Home', 'Reset original view', 'home', 'home'), ('Back', 'Back to previous …"
      ]
     },
     "metadata": {},
     "output_type": "display_data"
    }
   ],
   "source": [
    "# Plot results\n",
    "class_names = sorted(validation_data.class_indices.items(), key=lambda pair:pair[1])\n",
    "class_names = np.array([key.title() for key, value in class_names])\n",
    "print(f'Classes: {class_names}')\n",
    "\n",
    "## get result labels\n",
    "predicted_batch = model.predict(image_batch)\n",
    "predicted_id = np.argmax(predicted_batch, axis=-1)\n",
    "predicted_label_batch = class_names[predicted_id]\n",
    "\n",
    "label_id = np.argmax(label_batch, axis=-1)\n",
    "\n",
    "## plot\n",
    "fig5 = plt.figure(figsize=(10,9))\n",
    "fig5.subplots_adjust(hspace=0.5)\n",
    "for n in range(30):\n",
    "    ax = fig5.add_subplot(6, 5, n+1)\n",
    "    ax.imshow(image_batch[n])\n",
    "    color = 'green' if predicted_id[n] == label_id[n] else 'red'\n",
    "    ax.set_title(predicted_label_batch[n].title(), color=color)\n",
    "    ax.axis('off')\n",
    "_ = fig5.suptitle('Model predictions (green: correct, red: incorrect)')"
   ]
  },
  {
   "cell_type": "code",
   "execution_count": 18,
   "metadata": {},
   "outputs": [
    {
     "name": "stdout",
     "output_type": "stream",
     "text": [
      "INFO:tensorflow:Assets written to: ./saved_models/1580976720/assets\n"
     ]
    },
    {
     "name": "stderr",
     "output_type": "stream",
     "text": [
      "INFO:tensorflow:Assets written to: ./saved_models/1580976720/assets\n"
     ]
    },
    {
     "name": "stdout",
     "output_type": "stream",
     "text": [
      "Export the model to ./saved_models/1580976720\n"
     ]
    }
   ],
   "source": [
    "# Export model too\n",
    "t = time.time()\n",
    "\n",
    "export_path = f'./saved_models/{int(t)}'\n",
    "model.save(export_path, save_format='tf')\n",
    "\n",
    "print(f'Export the model to {export_path}')"
   ]
  },
  {
   "cell_type": "code",
   "execution_count": 19,
   "metadata": {},
   "outputs": [
    {
     "name": "stdout",
     "output_type": "stream",
     "text": [
      "Comparison between own model and exported model 0.0\n"
     ]
    }
   ],
   "source": [
    "# Check the exported model too\n",
    "reloaded = tf.keras.models.load_model(export_path)\n",
    "\n",
    "result_batch = model.predict(image_batch)\n",
    "reloaded_result_batch = reloaded.predict(image_batch)\n",
    "\n",
    "print(f'Comparison between own model and exported model {abs(reloaded_result_batch - result_batch).max()}')"
   ]
  }
 ],
 "metadata": {
  "kernelspec": {
   "display_name": "Cell",
   "language": "python",
   "name": "cell-classification"
  },
  "language_info": {
   "codemirror_mode": {
    "name": "ipython",
    "version": 3
   },
   "file_extension": ".py",
   "mimetype": "text/x-python",
   "name": "python",
   "nbconvert_exporter": "python",
   "pygments_lexer": "ipython3",
   "version": "3.7.6"
  }
 },
 "nbformat": 4,
 "nbformat_minor": 4
}
