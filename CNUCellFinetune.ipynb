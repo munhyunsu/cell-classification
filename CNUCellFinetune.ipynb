{
 "cells": [
  {
   "cell_type": "code",
   "execution_count": null,
   "metadata": {},
   "outputs": [],
   "source": [
    "# Setup library\n",
    "## install -r requirements.txt\n",
    "from __future__ import absolute_import, division, print_function, unicode_literals\n",
    "import os\n",
    "import time\n",
    "\n",
    "import matplotlib.pylab as plt\n",
    "# %matplotlib widget\n",
    "%matplotlib inline\n",
    "import PIL.Image as Image\n",
    "import numpy as np\n",
    "import pandas as pd\n",
    "\n",
    "import tensorflow as tf\n",
    "import tensorflow_hub as hub\n",
    "from tensorflow.keras import layers"
   ]
  },
  {
   "cell_type": "code",
   "execution_count": null,
   "metadata": {},
   "outputs": [],
   "source": [
    "IMG_DATA = './dataset_growth_100'\n",
    "IMG_SHAPE = (224, 224)"
   ]
  },
  {
   "cell_type": "code",
   "execution_count": null,
   "metadata": {},
   "outputs": [],
   "source": [
    "# Classifier from TF hub\n",
    "classifier_url = 'https://tfhub.dev/google/tf2-preview/mobilenet_v2/classification/2' #@param {type:\"string\"}\n",
    "classifier = tf.keras.Sequential([\n",
    "    hub.KerasLayer(classifier_url, input_shape=IMG_SHAPE+(3, )) # Channel 3 RGB\n",
    "])\n",
    "\n",
    "## And labels\n",
    "labels_path = tf.keras.utils.get_file('ImageNetLabels.txt', \n",
    "                                      'https://storage.googleapis.com/download.tensorflow.org/data/ImageNetLabels.txt')\n",
    "imagenet_labels = np.array(open(labels_path).read().splitlines())"
   ]
  },
  {
   "cell_type": "code",
   "execution_count": null,
   "metadata": {},
   "outputs": [],
   "source": [
    "# prepare dataset\n",
    "dataset_root = os.path.abspath(os.path.expanduser(IMG_DATA))\n",
    "print(f'Dataset root: {dataset_root}')\n",
    "\n",
    "image_generator = tf.keras.preprocessing.image.ImageDataGenerator(rescale=1/255,\n",
    "                                                                  validation_split=0.2)\n",
    "train_data = image_generator.flow_from_directory(dataset_root, target_size=IMG_SHAPE,\n",
    "                                                 follow_links=True,\n",
    "                                                 subset='training')\n",
    "validation_data = image_generator.flow_from_directory(dataset_root, target_size=IMG_SHAPE,\n",
    "                                                      follow_links=True,\n",
    "                                                      shuffle=False,\n",
    "                                                      subset='validation')\n",
    "\n",
    "for image_batch, label_batch in validation_data:\n",
    "    print(f'Image batch shape: {image_batch.shape}')\n",
    "    print(f'Label batch shape: {label_batch.shape}')\n",
    "    break"
   ]
  },
  {
   "cell_type": "code",
   "execution_count": null,
   "metadata": {},
   "outputs": [],
   "source": [
    "# Predict batch input example\n",
    "## using original ImangeNet classifier\n",
    "result_batch = classifier.predict(image_batch)\n",
    "print(f'Batch result shape: {result_batch.shape}')\n",
    "\n",
    "predicted_class_names = imagenet_labels[np.argmax(result_batch, axis=-1)]\n",
    "print(f'Batch predicted class names: {predicted_class_names}')\n",
    "\n",
    "fig1 = plt.figure(figsize=(10, 9))\n",
    "fig1.subplots_adjust(hspace=0.5)\n",
    "for n in range(30):\n",
    "    ax = fig1.add_subplot(6, 5, n+1)\n",
    "    ax.imshow(image_batch[n])\n",
    "    ax.set_title(predicted_class_names[n])\n",
    "    ax.axis('off')\n",
    "_ = fig1.suptitle('ImageNet predictions')"
   ]
  },
  {
   "cell_type": "code",
   "execution_count": null,
   "metadata": {},
   "outputs": [],
   "source": [
    "# Prepare transfer learning\n",
    "## Download headless (without the top classification layer) model\n",
    "feature_extractor_url = 'https://tfhub.dev/google/tf2-preview/mobilenet_v2/feature_vector/2' #@param {type:\"string\"}\n",
    "feature_extractor_layer = hub.KerasLayer(feature_extractor_url,\n",
    "                                         input_shape=IMG_SHAPE+(3, ))\n",
    "feature_batch = feature_extractor_layer(image_batch)\n",
    "print(f'Feature vector shape: {feature_batch.shape}')\n",
    "\n",
    "## Frozen feature extraction layer\n",
    "feature_extractor_layer.trainable = False # for transfer learning classifier\n",
    "\n",
    "## Make a model for classification\n",
    "model = tf.keras.Sequential([\n",
    "    feature_extractor_layer,\n",
    "    layers.Dense(train_data.num_classes, activation='softmax')\n",
    "])"
   ]
  },
  {
   "cell_type": "code",
   "execution_count": null,
   "metadata": {},
   "outputs": [],
   "source": [
    "## Check the model and prediction result\n",
    "model.summary()\n",
    "\n",
    "predictions = model(image_batch)\n",
    "print(f'Prediction shape: {predictions.shape}')"
   ]
  },
  {
   "cell_type": "code",
   "execution_count": null,
   "metadata": {},
   "outputs": [],
   "source": [
    "# Train build\n",
    "## Compile model for train\n",
    "base_learning_rate = 0.001 # default\n",
    "model.compile(\n",
    "    optimizer=tf.keras.optimizers.Adam(learning_rate=base_learning_rate),\n",
    "    loss=tf.keras.losses.CategoricalCrossentropy(from_logits=True),\n",
    "    metrics=['accuracy'])\n",
    "\n",
    "## Log class\n",
    "### https://www.tensorflow.org/api_docs/python/tf/keras/callbacks/Callback\n",
    "class CollectBatchStats(tf.keras.callbacks.Callback):\n",
    "    def __init__(self):\n",
    "        self.batch_losses = []\n",
    "        self.batch_val_losses = []\n",
    "        self.batch_acc = []\n",
    "        self.batch_val_acc = []\n",
    "    \n",
    "    def on_epoch_end(self, epoch, logs=None):\n",
    "        self.batch_losses.append(logs['loss'])\n",
    "        self.batch_acc.append(logs['accuracy'])\n",
    "        self.batch_val_losses.append(logs['val_loss'])\n",
    "        self.batch_val_acc.append(logs['val_accuracy'])\n",
    "        self.model.reset_metrics()"
   ]
  },
  {
   "cell_type": "code",
   "execution_count": null,
   "metadata": {},
   "outputs": [],
   "source": [
    "steps_per_epoch = np.ceil(train_data.samples/train_data.batch_size) # train all dataset per epoch\n",
    "initial_epoch = 25\n",
    "batch_stats_callback = CollectBatchStats()\n",
    "\n",
    "history = model.fit(train_data,\n",
    "                    epochs=initial_epoch,\n",
    "                    steps_per_epoch=steps_per_epoch,\n",
    "                    validation_data=validation_data,\n",
    "                    callbacks=[batch_stats_callback])"
   ]
  },
  {
   "cell_type": "code",
   "execution_count": null,
   "metadata": {},
   "outputs": [],
   "source": [
    "# Draw learning curves chart\n",
    "acc = batch_stats_callback.batch_acc\n",
    "val_acc = batch_stats_callback.batch_val_acc\n",
    "loss = batch_stats_callback.batch_losses\n",
    "val_loss = batch_stats_callback.batch_val_losses\n",
    "\n",
    "fig2 = plt.figure(figsize=(8, 8))\n",
    "ax1 = fig2.add_subplot(2, 1, 1)\n",
    "ax1.plot(acc, label='Training Accuracy')\n",
    "ax1.plot(val_acc, label='Validation Accuracy')\n",
    "ax1.legend(loc='lower right')\n",
    "ax1.set_ylabel('Accuracy')\n",
    "ax1.set_ylim([min(plt.ylim()),1])\n",
    "ax1.set_title('Training and Validation Accuracy')\n",
    "\n",
    "ax2 = fig2.add_subplot(2, 1, 2)\n",
    "ax2.plot(loss, label='Training Loss')\n",
    "ax2.plot(val_loss, label='Validation Loss')\n",
    "ax2.legend(loc='upper right')\n",
    "ax2.set_ylabel('Cross Entropy')\n",
    "ax2.set_ylim([0,1.0])\n",
    "ax2.set_title('Training and Validation Loss')\n",
    "ax2.set_xlabel('epoch')"
   ]
  },
  {
   "cell_type": "code",
   "execution_count": null,
   "metadata": {},
   "outputs": [],
   "source": [
    "# Plot results\n",
    "class_names = sorted(validation_data.class_indices.items(), key=lambda pair:pair[1])\n",
    "class_names = np.array([key.title() for key, value in class_names])\n",
    "print(f'Classes: {class_names}')\n",
    "\n",
    "## get result labels\n",
    "predicted_batch = model.predict(image_batch)\n",
    "predicted_id = np.argmax(predicted_batch, axis=-1)\n",
    "predicted_label_batch = class_names[predicted_id]\n",
    "\n",
    "label_id = np.argmax(label_batch, axis=-1)\n",
    "\n",
    "## plot\n",
    "fig3 = plt.figure(figsize=(10,9))\n",
    "fig3.subplots_adjust(hspace=0.5)\n",
    "for n in range(30):\n",
    "    ax = fig3.add_subplot(6, 5, n+1)\n",
    "    ax.imshow(image_batch[n])\n",
    "    color = 'green' if predicted_id[n] == label_id[n] else 'red'\n",
    "    ax.set_title(predicted_label_batch[n].title(), color=color)\n",
    "    ax.axis('off')\n",
    "_ = fig3.suptitle('Model predictions (green: correct, red: incorrect)')"
   ]
  },
  {
   "cell_type": "code",
   "execution_count": null,
   "metadata": {},
   "outputs": [],
   "source": [
    "# Export model\n",
    "t = time.time()\n",
    "# prefix = input('model prefix: ').strip()\n",
    "prefix = '100_tf'\n",
    "export_path = f'./saved_models/{prefix}-{int(t)}'\n",
    "model.save(export_path, save_format='tf')\n",
    "\n",
    "print(f'Export the model to {export_path}')"
   ]
  },
  {
   "cell_type": "code",
   "execution_count": null,
   "metadata": {},
   "outputs": [],
   "source": [
    "# Check the exported model\n",
    "reloaded = tf.keras.models.load_model(export_path)\n",
    "\n",
    "result_batch = model.predict(image_batch)\n",
    "reloaded_result_batch = reloaded.predict(image_batch)\n",
    "\n",
    "print(f'Comparison between own model and exported model {abs(reloaded_result_batch - result_batch).max()}')"
   ]
  },
  {
   "cell_type": "code",
   "execution_count": null,
   "metadata": {},
   "outputs": [],
   "source": [
    "## Unfrozen feature extraction layer\n",
    "feature_extractor_layer.trainable = True\n",
    "\n",
    "model.compile(\n",
    "    optimizer=tf.keras.optimizers.Adam(learning_rate=base_learning_rate/10),\n",
    "    loss=tf.keras.losses.CategoricalCrossentropy(),\n",
    "    metrics=['accuracy'])\n",
    "model.summary()"
   ]
  },
  {
   "cell_type": "code",
   "execution_count": null,
   "metadata": {},
   "outputs": [],
   "source": [
    "finetune_epoch = 25\n",
    "\n",
    "history_fine = model.fit(train_data,\n",
    "                        epochs=initial_epoch+finetune_epoch,\n",
    "                        initial_epoch=initial_epoch, # == history.epoch[-1]+1\n",
    "                        steps_per_epoch=steps_per_epoch,\n",
    "                        validation_data=validation_data,\n",
    "                        callbacks = [batch_stats_callback])"
   ]
  },
  {
   "cell_type": "code",
   "execution_count": null,
   "metadata": {},
   "outputs": [],
   "source": [
    "# Draw learning curves chart\n",
    "fine_acc = batch_stats_callback.batch_acc\n",
    "fine_val_acc = batch_stats_callback.batch_val_acc\n",
    "fine_loss = batch_stats_callback.batch_losses\n",
    "fine_val_loss = batch_stats_callback.batch_val_losses\n",
    "\n",
    "fig4 = plt.figure(figsize=(8, 8))\n",
    "ax1 = fig4.add_subplot(2, 1, 1)\n",
    "ax1.plot(acc, label='Training Accuracy')\n",
    "ax1.plot(val_acc, label='Validation Accuracy')\n",
    "ax1.set_ylabel('Accuracy')\n",
    "ax1.set_ylim([min(plt.ylim()),1])\n",
    "ax1.plot([initial_epoch,initial_epoch],\n",
    "         ax1.get_ylim(), label='Start Fine Tuning')\n",
    "ax1.legend(loc='lower right')\n",
    "ax1.set_title('Training and Validation Accuracy')\n",
    "\n",
    "ax2 = fig4.add_subplot(2, 1, 2)\n",
    "ax2.plot(loss, label='Training Loss')\n",
    "ax2.plot(val_loss, label='Validation Loss')\n",
    "ax2.set_ylabel('Cross Entropy')\n",
    "ax2.set_ylim([0,1.0])\n",
    "ax2.plot([initial_epoch,initial_epoch],\n",
    "         ax2.get_ylim(), label='Start Fine Tuning')\n",
    "ax2.legend(loc='upper right')\n",
    "ax2.set_title('Training and Validation Loss')\n",
    "ax2.set_xlabel('epoch')"
   ]
  },
  {
   "cell_type": "code",
   "execution_count": null,
   "metadata": {},
   "outputs": [],
   "source": [
    "# Plot results\n",
    "class_names = sorted(validation_data.class_indices.items(), key=lambda pair:pair[1])\n",
    "class_names = np.array([key.title() for key, value in class_names])\n",
    "print(f'Classes: {class_names}')\n",
    "\n",
    "## get result labels\n",
    "predicted_batch = model.predict(image_batch)\n",
    "predicted_id = np.argmax(predicted_batch, axis=-1)\n",
    "predicted_label_batch = class_names[predicted_id]\n",
    "\n",
    "label_id = np.argmax(label_batch, axis=-1)\n",
    "\n",
    "## plot\n",
    "fig5 = plt.figure(figsize=(10,9))\n",
    "fig5.subplots_adjust(hspace=0.5)\n",
    "for n in range(30):\n",
    "    ax = fig5.add_subplot(6, 5, n+1)\n",
    "    ax.imshow(image_batch[n])\n",
    "    color = 'green' if predicted_id[n] == label_id[n] else 'red'\n",
    "    ax.set_title(predicted_label_batch[n].title(), color=color)\n",
    "    ax.axis('off')\n",
    "_ = fig5.suptitle('Model predictions (green: correct, red: incorrect)')"
   ]
  },
  {
   "cell_type": "code",
   "execution_count": null,
   "metadata": {},
   "outputs": [],
   "source": [
    "# Export model too\n",
    "t = time.time()\n",
    "# prefix = input('model prefix: ').strip()\n",
    "prefix = '100_tffinetune'\n",
    "export_path = f'./saved_models/{prefix}-{int(t)}'\n",
    "model.save(export_path, save_format='tf')\n",
    "\n",
    "print(f'Export the model to {export_path}')"
   ]
  },
  {
   "cell_type": "code",
   "execution_count": null,
   "metadata": {},
   "outputs": [],
   "source": [
    "# Check the exported model too\n",
    "reloaded = tf.keras.models.load_model(export_path)\n",
    "\n",
    "result_batch = model.predict(image_batch)\n",
    "reloaded_result_batch = reloaded.predict(image_batch)\n",
    "\n",
    "print(f'Comparison between own model and exported model {abs(reloaded_result_batch - result_batch).max()}')"
   ]
  },
  {
   "cell_type": "code",
   "execution_count": null,
   "metadata": {},
   "outputs": [],
   "source": [
    "# validation data classification result\n",
    "validation_data.reset()\n",
    "\n",
    "predicted_batch = model.predict(validation_data)\n",
    "predicted_id = np.argmax(predicted_batch, axis=-1)\n",
    "\n",
    "label_id = validation_data.classes\n",
    "\n",
    "con_mat = tf.math.confusion_matrix(label_id, predicted_id)\n",
    "\n",
    "result_df = pd.DataFrame(con_mat.numpy(), index=class_names, columns=class_names, dtype=int)\n",
    "\n",
    "print('-- Validation result (Row: Actual Class, Column: Predicted Class) --')\n",
    "print(result_df)"
   ]
  }
 ],
 "metadata": {
  "kernelspec": {
   "display_name": "Cell",
   "language": "python",
   "name": "cell-classification"
  },
  "language_info": {
   "codemirror_mode": {
    "name": "ipython",
    "version": 3
   },
   "file_extension": ".py",
   "mimetype": "text/x-python",
   "name": "python",
   "nbconvert_exporter": "python",
   "pygments_lexer": "ipython3",
   "version": "3.7.7"
  }
 },
 "nbformat": 4,
 "nbformat_minor": 4
}
